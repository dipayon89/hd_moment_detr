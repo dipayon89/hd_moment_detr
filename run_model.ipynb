{
 "cells": [
  {
   "cell_type": "markdown",
   "source": [
    "# Download dataset"
   ],
   "metadata": {
    "collapsed": false
   },
   "id": "be1cc2d07a822866"
  },
  {
   "cell_type": "code",
   "execution_count": null,
   "outputs": [],
   "source": [
    "!sudo apt-get install unzip\n",
    "!mkdir -p /notebooks/QVHighlights\n",
    "!wget -c https://huggingface.co/yeliudev/UMT/resolve/main/datasets/qvhighlights-a8559488.zip\n",
    "!mv qvhighlights-a8559488.zip QVHighlights/\n",
    "!unzip /notebooks/QVHighlights/qvhighlights-a8559488.zip -d /notebooks/QVHighlights/\n",
    "!mv /notebooks/QVHighlights/qvhighlights /notebooks/QVHighlights/features"
   ],
   "metadata": {
    "collapsed": false,
    "is_executing": true
   },
   "id": "dec8de2299b2de2a"
  },
  {
   "cell_type": "markdown",
   "source": [
    "# Download Code"
   ],
   "metadata": {
    "collapsed": false
   },
   "id": "22c1a4b9f8e407e8"
  },
  {
   "cell_type": "code",
   "execution_count": null,
   "outputs": [],
   "source": [
    "%cd /notebooks/\n",
    "!git clone https://github.com/dipayon89/hd_moment_detr.git -b prediction_head\n",
    "%cd hd_moment_detr\n",
    "!ls -l"
   ],
   "metadata": {
    "collapsed": false,
    "is_executing": true
   },
   "id": "eed92681e7706c4f"
  },
  {
   "cell_type": "markdown",
   "source": [
    "# Run Model"
   ],
   "metadata": {
    "collapsed": false
   },
   "id": "44a983c83e6e67c9"
  },
  {
   "cell_type": "code",
   "execution_count": null,
   "outputs": [],
   "source": [
    "!git pull\n",
    "!pip install -r requirements.txt"
   ],
   "metadata": {
    "collapsed": false
   },
   "id": "df1749d97e8afbde"
  },
  {
   "cell_type": "code",
   "execution_count": null,
   "outputs": [],
   "source": [
    "!bash moment_detr/scripts/train.sh "
   ],
   "metadata": {
    "collapsed": false
   },
   "id": "ba2e09b396a98c6"
  },
  {
   "cell_type": "code",
   "execution_count": null,
   "outputs": [],
   "source": [],
   "metadata": {
    "collapsed": false
   },
   "id": "114c2b798e58068c"
  }
 ],
 "metadata": {
  "kernelspec": {
   "display_name": "Python 3",
   "language": "python",
   "name": "python3"
  },
  "language_info": {
   "codemirror_mode": {
    "name": "ipython",
    "version": 2
   },
   "file_extension": ".py",
   "mimetype": "text/x-python",
   "name": "python",
   "nbconvert_exporter": "python",
   "pygments_lexer": "ipython2",
   "version": "2.7.6"
  }
 },
 "nbformat": 4,
 "nbformat_minor": 5
}
